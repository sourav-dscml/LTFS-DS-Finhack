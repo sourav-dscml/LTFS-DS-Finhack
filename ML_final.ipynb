{
 "cells": [
  {
   "cell_type": "markdown",
   "metadata": {},
   "source": [
    "## Preprocessing and model build"
   ]
  },
  {
   "cell_type": "markdown",
   "metadata": {},
   "source": [
    "**Import Libraries and load files**"
   ]
  },
  {
   "cell_type": "code",
   "execution_count": 1,
   "metadata": {},
   "outputs": [],
   "source": [
    "#import necessary libraries\n",
    "\n",
    "import numpy as np\n",
    "import pandas as pd\n",
    "import seaborn as sns\n",
    "import matplotlib.pyplot as plt\n",
    "import re\n",
    "\n",
    "import warnings\n",
    "warnings.filterwarnings(\"ignore\")"
   ]
  },
  {
   "cell_type": "code",
   "execution_count": 2,
   "metadata": {},
   "outputs": [],
   "source": [
    "pd.pandas.set_option('display.max_rows',None)\n",
    "pd.pandas.set_option('display.max_columns',None)"
   ]
  },
  {
   "cell_type": "code",
   "execution_count": 3,
   "metadata": {},
   "outputs": [],
   "source": [
    "#load files\n",
    "train = pd.read_csv('Train_complete.csv')\n",
    "test = pd.read_csv('Test_complete.csv')"
   ]
  },
  {
   "cell_type": "code",
   "execution_count": 4,
   "metadata": {},
   "outputs": [
    {
     "data": {
      "text/html": [
       "<div>\n",
       "<style scoped>\n",
       "    .dataframe tbody tr th:only-of-type {\n",
       "        vertical-align: middle;\n",
       "    }\n",
       "\n",
       "    .dataframe tbody tr th {\n",
       "        vertical-align: top;\n",
       "    }\n",
       "\n",
       "    .dataframe thead th {\n",
       "        text-align: right;\n",
       "    }\n",
       "</style>\n",
       "<table border=\"1\" class=\"dataframe\">\n",
       "  <thead>\n",
       "    <tr style=\"text-align: right;\">\n",
       "      <th></th>\n",
       "      <th>ID</th>\n",
       "      <th>Frequency</th>\n",
       "      <th>InstlmentMode</th>\n",
       "      <th>LoanStatus</th>\n",
       "      <th>PaymentMode</th>\n",
       "      <th>BranchID</th>\n",
       "      <th>Tenure</th>\n",
       "      <th>AssetCost</th>\n",
       "      <th>DisbursalAmount</th>\n",
       "      <th>EMI</th>\n",
       "      <th>ManufacturerID</th>\n",
       "      <th>LTV</th>\n",
       "      <th>SEX</th>\n",
       "      <th>AGE</th>\n",
       "      <th>MonthlyIncome</th>\n",
       "      <th>State</th>\n",
       "      <th>Top-up Month</th>\n",
       "      <th>SELF-INDICATOR</th>\n",
       "      <th>ACCT-TYPE</th>\n",
       "      <th>CONTRIBUTOR-TYPE</th>\n",
       "      <th>DATE-REPORTED</th>\n",
       "      <th>OWNERSHIP-IND</th>\n",
       "      <th>ACCOUNT-STATUS</th>\n",
       "      <th>DISBURSED-DT</th>\n",
       "      <th>DISBURSED-AMT/HIGH CREDIT</th>\n",
       "      <th>CURRENT-BAL</th>\n",
       "      <th>OVERDUE-AMT</th>\n",
       "      <th>WRITE-OFF-AMT</th>\n",
       "    </tr>\n",
       "  </thead>\n",
       "  <tbody>\n",
       "    <tr>\n",
       "      <th>0</th>\n",
       "      <td>1</td>\n",
       "      <td>Monthly</td>\n",
       "      <td>Arrear</td>\n",
       "      <td>Closed</td>\n",
       "      <td>PDC_E</td>\n",
       "      <td>1</td>\n",
       "      <td>48</td>\n",
       "      <td>450000</td>\n",
       "      <td>275000.0</td>\n",
       "      <td>24000.0</td>\n",
       "      <td>1568</td>\n",
       "      <td>61.11</td>\n",
       "      <td>M</td>\n",
       "      <td>49.0</td>\n",
       "      <td>35833.33</td>\n",
       "      <td>MADHYA PRADESH</td>\n",
       "      <td>&gt; 48 Months</td>\n",
       "      <td>0</td>\n",
       "      <td>Overdraft</td>\n",
       "      <td>NAB</td>\n",
       "      <td>2018-04-30</td>\n",
       "      <td>Individual</td>\n",
       "      <td>Delinquent</td>\n",
       "      <td>2015-10-05</td>\n",
       "      <td>37352</td>\n",
       "      <td>37873</td>\n",
       "      <td>37873</td>\n",
       "      <td>0.0</td>\n",
       "    </tr>\n",
       "    <tr>\n",
       "      <th>1</th>\n",
       "      <td>1</td>\n",
       "      <td>Monthly</td>\n",
       "      <td>Arrear</td>\n",
       "      <td>Closed</td>\n",
       "      <td>PDC_E</td>\n",
       "      <td>1</td>\n",
       "      <td>48</td>\n",
       "      <td>450000</td>\n",
       "      <td>275000.0</td>\n",
       "      <td>24000.0</td>\n",
       "      <td>1568</td>\n",
       "      <td>61.11</td>\n",
       "      <td>M</td>\n",
       "      <td>49.0</td>\n",
       "      <td>35833.33</td>\n",
       "      <td>MADHYA PRADESH</td>\n",
       "      <td>&gt; 48 Months</td>\n",
       "      <td>0</td>\n",
       "      <td>Auto Loan (Personal)</td>\n",
       "      <td>NAB</td>\n",
       "      <td>2019-12-31</td>\n",
       "      <td>Individual</td>\n",
       "      <td>Active</td>\n",
       "      <td>2018-03-19</td>\n",
       "      <td>44000</td>\n",
       "      <td>20797</td>\n",
       "      <td>0</td>\n",
       "      <td>0.0</td>\n",
       "    </tr>\n",
       "    <tr>\n",
       "      <th>2</th>\n",
       "      <td>1</td>\n",
       "      <td>Monthly</td>\n",
       "      <td>Arrear</td>\n",
       "      <td>Closed</td>\n",
       "      <td>PDC_E</td>\n",
       "      <td>1</td>\n",
       "      <td>48</td>\n",
       "      <td>450000</td>\n",
       "      <td>275000.0</td>\n",
       "      <td>24000.0</td>\n",
       "      <td>1568</td>\n",
       "      <td>61.11</td>\n",
       "      <td>M</td>\n",
       "      <td>49.0</td>\n",
       "      <td>35833.33</td>\n",
       "      <td>MADHYA PRADESH</td>\n",
       "      <td>&gt; 48 Months</td>\n",
       "      <td>1</td>\n",
       "      <td>Tractor Loan</td>\n",
       "      <td>NBF</td>\n",
       "      <td>2020-01-31</td>\n",
       "      <td>Individual</td>\n",
       "      <td>Active</td>\n",
       "      <td>2019-08-30</td>\n",
       "      <td>145000</td>\n",
       "      <td>116087</td>\n",
       "      <td>0</td>\n",
       "      <td>0.0</td>\n",
       "    </tr>\n",
       "  </tbody>\n",
       "</table>\n",
       "</div>"
      ],
      "text/plain": [
       "   ID Frequency InstlmentMode LoanStatus PaymentMode  BranchID  Tenure  \\\n",
       "0   1   Monthly        Arrear     Closed       PDC_E         1      48   \n",
       "1   1   Monthly        Arrear     Closed       PDC_E         1      48   \n",
       "2   1   Monthly        Arrear     Closed       PDC_E         1      48   \n",
       "\n",
       "   AssetCost  DisbursalAmount      EMI  ManufacturerID    LTV SEX   AGE  \\\n",
       "0     450000         275000.0  24000.0            1568  61.11   M  49.0   \n",
       "1     450000         275000.0  24000.0            1568  61.11   M  49.0   \n",
       "2     450000         275000.0  24000.0            1568  61.11   M  49.0   \n",
       "\n",
       "   MonthlyIncome           State  Top-up Month  SELF-INDICATOR  \\\n",
       "0       35833.33  MADHYA PRADESH   > 48 Months               0   \n",
       "1       35833.33  MADHYA PRADESH   > 48 Months               0   \n",
       "2       35833.33  MADHYA PRADESH   > 48 Months               1   \n",
       "\n",
       "              ACCT-TYPE CONTRIBUTOR-TYPE DATE-REPORTED OWNERSHIP-IND  \\\n",
       "0             Overdraft              NAB    2018-04-30    Individual   \n",
       "1  Auto Loan (Personal)              NAB    2019-12-31    Individual   \n",
       "2          Tractor Loan              NBF    2020-01-31    Individual   \n",
       "\n",
       "  ACCOUNT-STATUS DISBURSED-DT  DISBURSED-AMT/HIGH CREDIT  CURRENT-BAL  \\\n",
       "0     Delinquent   2015-10-05                      37352        37873   \n",
       "1         Active   2018-03-19                      44000        20797   \n",
       "2         Active   2019-08-30                     145000       116087   \n",
       "\n",
       "   OVERDUE-AMT  WRITE-OFF-AMT  \n",
       "0        37873            0.0  \n",
       "1            0            0.0  \n",
       "2            0            0.0  "
      ]
     },
     "execution_count": 4,
     "metadata": {},
     "output_type": "execute_result"
    }
   ],
   "source": [
    "train.head(3)\n",
    "\n",
    "# train.to_csv('test.csv',index=False)"
   ]
  },
  {
   "cell_type": "markdown",
   "metadata": {},
   "source": [
    "<h2>New Feature developed : Number of loan acct for each ID"
   ]
  },
  {
   "cell_type": "code",
   "execution_count": 5,
   "metadata": {},
   "outputs": [],
   "source": [
    "id_cnt_trn = train.groupby('ID')['ID'].count().to_dict()\n",
    "train['ID_cnt'] = train['ID'].map(id_cnt_trn)\n",
    "\n",
    "\n",
    "id_cnt_tst = test.groupby('ID')['ID'].count().to_dict()\n",
    "test['ID_cnt'] = test['ID'].map(id_cnt_tst)"
   ]
  },
  {
   "cell_type": "markdown",
   "metadata": {},
   "source": [
    "<h2>New Feature developed : Total current balance for each individual"
   ]
  },
  {
   "cell_type": "code",
   "execution_count": 6,
   "metadata": {},
   "outputs": [],
   "source": [
    "dic_sum_current_bal = train.groupby('ID')['CURRENT-BAL'].sum().to_dict()\n",
    "train['Total_current_bal'] = train['ID'].map(dic_sum_current_bal)"
   ]
  },
  {
   "cell_type": "code",
   "execution_count": 7,
   "metadata": {},
   "outputs": [],
   "source": [
    "dic_sum_current_bal_test = test.groupby('ID')['CURRENT-BAL'].sum().to_dict()\n",
    "test['Total_current_bal'] = test['ID'].map(dic_sum_current_bal_test)"
   ]
  },
  {
   "cell_type": "code",
   "execution_count": 8,
   "metadata": {},
   "outputs": [],
   "source": [
    "train['Total_current_bal'] = np.where(train['Total_current_bal']==0,1,train['Total_current_bal'])\n",
    "test['Total_current_bal'] = np.where(test['Total_current_bal']==0,1,test['Total_current_bal'])\n"
   ]
  },
  {
   "cell_type": "markdown",
   "metadata": {},
   "source": [
    "<h2>New Feature developed : Liability of loan amount"
   ]
  },
  {
   "cell_type": "code",
   "execution_count": 9,
   "metadata": {},
   "outputs": [],
   "source": [
    "train['Liability_loan'] = round(train['AssetCost'] + (train['MonthlyIncome']*12) / train['Total_current_bal'],2)\n",
    "test['Liability_loan'] = round(test['AssetCost'] + (test['MonthlyIncome']*12) / test['Total_current_bal'],2)"
   ]
  },
  {
   "cell_type": "markdown",
   "metadata": {},
   "source": [
    "<H2>Null Value treatment"
   ]
  },
  {
   "cell_type": "code",
   "execution_count": 10,
   "metadata": {},
   "outputs": [
    {
     "data": {
      "text/plain": [
       "1228"
      ]
     },
     "execution_count": 10,
     "metadata": {},
     "output_type": "execute_result"
    }
   ],
   "source": [
    "#Find Nulls in BOTH DATE-REPORTED and DISBURSED-DT \n",
    "train[train['DATE-REPORTED'].isnull() & train['DISBURSED-DT'].isnull()].shape[0]"
   ]
  },
  {
   "cell_type": "code",
   "execution_count": 11,
   "metadata": {},
   "outputs": [],
   "source": [
    "#Drop the same rows\n",
    "train.drop(train[train['DATE-REPORTED'].isnull() & train['DISBURSED-DT'].isnull()].index, inplace = True)"
   ]
  },
  {
   "cell_type": "markdown",
   "metadata": {},
   "source": [
    "**Fill DATE-REPORTED with DISBURSED-DT and vice versa**"
   ]
  },
  {
   "cell_type": "code",
   "execution_count": 12,
   "metadata": {},
   "outputs": [],
   "source": [
    "train['DATE-REPORTED'].fillna(train['DISBURSED-DT'], inplace = True)\n",
    "test['DATE-REPORTED'].fillna(test['DISBURSED-DT'], inplace = True)"
   ]
  },
  {
   "cell_type": "code",
   "execution_count": 13,
   "metadata": {},
   "outputs": [],
   "source": [
    "train['DISBURSED-DT'].fillna(train['DATE-REPORTED'], inplace = True)\n",
    "test['DISBURSED-DT'].fillna(test['DATE-REPORTED'], inplace = True)"
   ]
  },
  {
   "cell_type": "markdown",
   "metadata": {},
   "source": [
    "**Find Nulls in other fields and impute**"
   ]
  },
  {
   "cell_type": "code",
   "execution_count": 14,
   "metadata": {},
   "outputs": [
    {
     "data": {
      "text/plain": [
       "['SEX', 'AGE', 'MonthlyIncome', 'WRITE-OFF-AMT', 'Liability_loan']"
      ]
     },
     "execution_count": 14,
     "metadata": {},
     "output_type": "execute_result"
    }
   ],
   "source": [
    "# pick up fields where there is null values\n",
    "null_train = [var for var in train.columns if train[var].isnull().sum()>0]\n",
    "null_train"
   ]
  },
  {
   "cell_type": "code",
   "execution_count": 15,
   "metadata": {},
   "outputs": [],
   "source": [
    "#fill up nulls with mode\n",
    "for var in null_train:\n",
    "    train[var].fillna(train[var].mode()[0], inplace=True)"
   ]
  },
  {
   "cell_type": "code",
   "execution_count": 16,
   "metadata": {},
   "outputs": [],
   "source": [
    "#do the same for test set\n",
    "null_test = [var for var in test.columns if test[var].isnull().sum()>0]\n",
    "for var in null_test:\n",
    "    test[var].fillna(test[var].mode()[0], inplace=True)"
   ]
  },
  {
   "cell_type": "markdown",
   "metadata": {},
   "source": [
    "<h2>Distributions of continuous variables"
   ]
  },
  {
   "cell_type": "code",
   "execution_count": 17,
   "metadata": {},
   "outputs": [
    {
     "data": {
      "text/plain": [
       "['BranchID',\n",
       " 'Tenure',\n",
       " 'AssetCost',\n",
       " 'DisbursalAmount',\n",
       " 'EMI',\n",
       " 'ManufacturerID',\n",
       " 'LTV',\n",
       " 'AGE',\n",
       " 'MonthlyIncome',\n",
       " 'SELF-INDICATOR',\n",
       " 'DISBURSED-AMT/HIGH CREDIT',\n",
       " 'CURRENT-BAL',\n",
       " 'OVERDUE-AMT',\n",
       " 'WRITE-OFF-AMT',\n",
       " 'ID_cnt',\n",
       " 'Total_current_bal',\n",
       " 'Liability_loan']"
      ]
     },
     "execution_count": 17,
     "metadata": {},
     "output_type": "execute_result"
    }
   ],
   "source": [
    "num_ver = [var for var in train.columns if train[var].dtype != 'O' and var != 'ID']\n",
    "num_ver"
   ]
  },
  {
   "cell_type": "markdown",
   "metadata": {},
   "source": [
    "<h2> Key feature developped by summing LTV, EMI, MonthlyIncome, AssetCost"
   ]
  },
  {
   "cell_type": "code",
   "execution_count": 18,
   "metadata": {},
   "outputs": [],
   "source": [
    "train['key-fet'] = train['LTV']*100000+train['EMI']+train[ 'MonthlyIncome']+train['AssetCost']\n",
    "test['key-fet'] = test['LTV']*100000+test['EMI']+test[ 'MonthlyIncome']+test['AssetCost']"
   ]
  },
  {
   "cell_type": "markdown",
   "metadata": {},
   "source": [
    "## Converted Date fields from text to datetime"
   ]
  },
  {
   "cell_type": "code",
   "execution_count": 19,
   "metadata": {},
   "outputs": [],
   "source": [
    "#Converting to date DATE-REPORTED and DISBURSED-DT\n",
    "\n",
    "train['DATE-REPORTED'] = pd.to_datetime(train['DATE-REPORTED'])\n",
    "train['DISBURSED-DT'] = pd.to_datetime(train['DISBURSED-DT'])\n",
    "\n",
    "\n",
    "test['DATE-REPORTED'] = pd.to_datetime(test['DATE-REPORTED'])\n",
    "test['DISBURSED-DT'] = pd.to_datetime(test['DISBURSED-DT'])"
   ]
  },
  {
   "cell_type": "markdown",
   "metadata": {},
   "source": [
    "## Difference between dates"
   ]
  },
  {
   "cell_type": "code",
   "execution_count": 20,
   "metadata": {},
   "outputs": [],
   "source": [
    "#calculate the difference between DATE-REPORTED and DISBURSED-DT\n",
    "train['date_diff'] = train['DATE-REPORTED'] - train['DISBURSED-DT']\n",
    "train['date_diff'] = train['date_diff'] / np.timedelta64(1,'M')"
   ]
  },
  {
   "cell_type": "code",
   "execution_count": 21,
   "metadata": {},
   "outputs": [],
   "source": [
    "#calculate the difference between DATE-REPORTED and DISBURSED-DT for test set\n",
    "test['date_diff'] = test['DATE-REPORTED'] - test['DISBURSED-DT']\n",
    "test['date_diff'] = test['date_diff'] / np.timedelta64(1,'M')"
   ]
  },
  {
   "cell_type": "markdown",
   "metadata": {},
   "source": [
    "## Squize the data :\n",
    "Select one row from each ID where disbursed-dt is max"
   ]
  },
  {
   "cell_type": "code",
   "execution_count": 22,
   "metadata": {},
   "outputs": [],
   "source": [
    "train = train.loc[train.groupby('ID')['DISBURSED-DT'].idxmax()]\n",
    "test = test.loc[test.groupby('ID')['DISBURSED-DT'].idxmax()]"
   ]
  },
  {
   "cell_type": "code",
   "execution_count": 23,
   "metadata": {},
   "outputs": [],
   "source": [
    "#drop the date fields\n",
    "\n",
    "train.drop(['DATE-REPORTED','DISBURSED-DT'],axis=1,inplace=True)\n",
    "\n",
    "test.drop(['DATE-REPORTED','DISBURSED-DT'],axis=1,inplace=True)"
   ]
  },
  {
   "cell_type": "markdown",
   "metadata": {},
   "source": [
    "## Create dummy of categorical variables"
   ]
  },
  {
   "cell_type": "code",
   "execution_count": 24,
   "metadata": {},
   "outputs": [],
   "source": [
    "#selectng catagorical features\n",
    "\n",
    "cat_var = [var for var in train.columns if train[var].dtype == 'O']"
   ]
  },
  {
   "cell_type": "code",
   "execution_count": 25,
   "metadata": {},
   "outputs": [
    {
     "name": "stdout",
     "output_type": "stream",
     "text": [
      "Frequency  :  4\n",
      "InstlmentMode  :  2\n",
      "LoanStatus  :  2\n",
      "PaymentMode  :  11\n",
      "SEX  :  2\n",
      "State  :  22\n",
      "Top-up Month  :  7\n",
      "ACCT-TYPE  :  44\n",
      "CONTRIBUTOR-TYPE  :  11\n",
      "OWNERSHIP-IND  :  5\n",
      "ACCOUNT-STATUS  :  9\n"
     ]
    }
   ],
   "source": [
    "# Analyze Categorical Field\n",
    "\n",
    "\n",
    "#Checking the distinct value present in each Categorial feature\n",
    "\n",
    "def unique_count(df, var):\n",
    "    df = df.copy()\n",
    "    print(var, ' : ' ,df[var].nunique())\n",
    "    \n",
    "for var in cat_var:\n",
    "    unique_count(train, var)"
   ]
  },
  {
   "cell_type": "markdown",
   "metadata": {},
   "source": [
    "**Group rare categorical fields in a same name**"
   ]
  },
  {
   "cell_type": "code",
   "execution_count": 26,
   "metadata": {},
   "outputs": [],
   "source": [
    "def find_frequent_labels(df, var, rare_perc):\n",
    "   \n",
    "    # function finds the labels that are shared by more than\n",
    "    # a certain % of the passengers in the dataset\n",
    "   \n",
    "    df = df.copy()\n",
    "   \n",
    "    tmp = df.groupby(var)[var].count() / len(df)\n",
    "   \n",
    "    return tmp[tmp > rare_perc].index\n",
    "\n",
    "\n",
    "for var in cat_var:\n",
    "   \n",
    "    # find the frequent categories\n",
    "    frequent_ls = find_frequent_labels(train, var, 0.01)\n",
    "   \n",
    "    # replace rare categories by the string \"Rare\"\n",
    "    if var != 'Top-up Month':\n",
    "       \n",
    "        train[var] = np.where(train[var].isin(\n",
    "            frequent_ls), train[var], 'Rare')\n",
    "\n",
    "        test[var] = np.where(test[var].isin(\n",
    "            frequent_ls), test[var], 'Rare')"
   ]
  },
  {
   "cell_type": "code",
   "execution_count": 27,
   "metadata": {},
   "outputs": [],
   "source": [
    "#Creating dummies for categorical data\n",
    "\n",
    "\n",
    "for var in cat_var:\n",
    "     if var != 'Top-up Month':\n",
    "        train = pd.get_dummies(train,columns=[var])\n",
    "        test = pd.get_dummies(test,columns=[var])\n",
    "   "
   ]
  },
  {
   "cell_type": "code",
   "execution_count": 28,
   "metadata": {},
   "outputs": [
    {
     "name": "stdout",
     "output_type": "stream",
     "text": [
      "Top-up Month\n",
      "Frequency_Rare\n"
     ]
    }
   ],
   "source": [
    "col_train = train.columns\n",
    "col_test = test.columns\n",
    "\n",
    "for col in col_train:\n",
    "    if col not in col_test:\n",
    "        print(col)"
   ]
  },
  {
   "cell_type": "code",
   "execution_count": 29,
   "metadata": {},
   "outputs": [],
   "source": [
    "#for final dataset we dont take ID and target variable\n",
    "\n",
    "final_var = [var for var in train.columns if var not in ('Top-up Month','ID','Frequency_Rare','due_amt')]"
   ]
  },
  {
   "cell_type": "markdown",
   "metadata": {},
   "source": [
    "**Convert the target into a numeric label, we create a dictionary for that**"
   ]
  },
  {
   "cell_type": "code",
   "execution_count": 30,
   "metadata": {},
   "outputs": [],
   "source": [
    "\n",
    "target_dict = {'No Top-up Service':0, '12-18 Months':1, '18-24 Months':2 , '24-30 Months':3, \n",
    "               '30-36 Months':4, '36-48 Months':5, ' > 48 Months':6}"
   ]
  },
  {
   "cell_type": "code",
   "execution_count": 31,
   "metadata": {},
   "outputs": [],
   "source": [
    "#saving ID which will be used to create submission dataframe\n",
    "\n",
    "save_id = test['ID']"
   ]
  },
  {
   "cell_type": "code",
   "execution_count": 32,
   "metadata": {},
   "outputs": [],
   "source": [
    "#Getting final dataset\n",
    "\n",
    "X = train[final_var]\n",
    "y = train['Top-up Month'].map(target_dict)"
   ]
  },
  {
   "cell_type": "markdown",
   "metadata": {},
   "source": [
    "### Train Test Split"
   ]
  },
  {
   "cell_type": "code",
   "execution_count": 33,
   "metadata": {},
   "outputs": [],
   "source": [
    "from sklearn.model_selection import train_test_split\n",
    "X_train, X_test, y_train, y_test = train_test_split(X, y, test_size=0.3, random_state=0)"
   ]
  },
  {
   "cell_type": "markdown",
   "metadata": {},
   "source": [
    "### Scalling"
   ]
  },
  {
   "cell_type": "code",
   "execution_count": 34,
   "metadata": {},
   "outputs": [],
   "source": [
    "from sklearn.preprocessing import StandardScaler\n",
    "\n",
    "scaler = StandardScaler()\n",
    "\n",
    "X_train[final_var] = scaler.fit_transform(X_train[final_var])\n",
    "X_test[final_var] = scaler.transform(X_test[final_var])\n",
    "\n"
   ]
  },
  {
   "cell_type": "code",
   "execution_count": 35,
   "metadata": {},
   "outputs": [],
   "source": [
    "test[final_var] = scaler.transform(test[final_var])"
   ]
  },
  {
   "cell_type": "code",
   "execution_count": 36,
   "metadata": {},
   "outputs": [],
   "source": [
    "# create the training df by remerging X_train and y_train\n",
    "df_train = X_train.join(y_train)\n"
   ]
  },
  {
   "cell_type": "code",
   "execution_count": 37,
   "metadata": {},
   "outputs": [
    {
     "data": {
      "text/plain": [
       "0    74704\n",
       "6     5871\n",
       "5     2521\n",
       "3     2459\n",
       "4     2146\n",
       "2     1619\n",
       "1      732\n",
       "Name: Top-up Month, dtype: int64"
      ]
     },
     "execution_count": 37,
     "metadata": {},
     "output_type": "execute_result"
    }
   ],
   "source": [
    "df_train['Top-up Month'].value_counts()"
   ]
  },
  {
   "cell_type": "markdown",
   "metadata": {},
   "source": [
    "**As this is an imbalanced dataset, we'll use undersampling**"
   ]
  },
  {
   "cell_type": "code",
   "execution_count": 38,
   "metadata": {},
   "outputs": [],
   "source": [
    "from sklearn.utils import resample\n",
    "\n",
    "# Separate majority and minority classes\n",
    "df_majority = df_train[df_train['Top-up Month']==0]\n",
    "df_minority = df_train[df_train['Top-up Month']==6]\n",
    "df_rest =  df_train[df_train['Top-up Month']!=6] [df_train['Top-up Month']!=0]"
   ]
  },
  {
   "cell_type": "code",
   "execution_count": 39,
   "metadata": {},
   "outputs": [
    {
     "data": {
      "text/plain": [
       "0    53449\n",
       "6     5871\n",
       "5     2521\n",
       "3     2459\n",
       "4     2146\n",
       "2     1619\n",
       "1      732\n",
       "Name: Top-up Month, dtype: int64"
      ]
     },
     "execution_count": 39,
     "metadata": {},
     "output_type": "execute_result"
    }
   ],
   "source": [
    "# Downsample majority class\n",
    "df_majority_downsampled = resample(df_majority, \n",
    "                                 replace=False,    # sample without replacement\n",
    "                                 n_samples= 53449,     # to match minority class\n",
    "                                 random_state=587) # reproducible results\n",
    "# Combine minority class with downsampled majority class\n",
    "df_downsampled = pd.concat([df_majority_downsampled, df_minority,df_rest])\n",
    "# Display new class counts\n",
    "df_downsampled['Top-up Month'].value_counts()"
   ]
  },
  {
   "cell_type": "code",
   "execution_count": 40,
   "metadata": {},
   "outputs": [],
   "source": [
    "y_downsampled = df_downsampled['Top-up Month']\n",
    "X_downsampled = df_downsampled.drop(['Top-up Month'], axis = 1)"
   ]
  },
  {
   "cell_type": "markdown",
   "metadata": {},
   "source": [
    "## Machine Learning"
   ]
  },
  {
   "cell_type": "code",
   "execution_count": 54,
   "metadata": {},
   "outputs": [],
   "source": [
    "#import libraries for Machine Learning Models\n",
    "from sklearn.ensemble import RandomForestClassifier\n",
    "from sklearn.model_selection import GridSearchCV\n",
    "\n",
    "from sklearn.metrics import f1_score,classification_report"
   ]
  },
  {
   "cell_type": "markdown",
   "metadata": {},
   "source": [
    "<h4> RandomForest Classifier - 1st Model"
   ]
  },
  {
   "cell_type": "code",
   "execution_count": 42,
   "metadata": {},
   "outputs": [],
   "source": [
    "#fit the model with above found hyperparamets\n",
    "\n",
    "# model_rf = RandomForestClassifier(random_state=42)\n",
    "\n",
    "# model_rf.fit(X_downsampled,y_downsampled)"
   ]
  },
  {
   "cell_type": "code",
   "execution_count": 43,
   "metadata": {},
   "outputs": [],
   "source": [
    "# pred_rf=model_rf.predict(X_test)\n",
    "# print('f1_score',f1_score(y_test,pred_rf,average='macro'))"
   ]
  },
  {
   "cell_type": "code",
   "execution_count": 44,
   "metadata": {},
   "outputs": [],
   "source": [
    "#Printing the 15 most important features for XGBModel\n",
    "\n",
    "# imp_feat=pd.Series(model_rf.feature_importances_,index=final_var)\n",
    "# plt.figure(figsize=(5,5))\n",
    "# imp_feat.sort_values(ascending = False)[:15].plot(kind='barh')\n",
    "# plt.show()"
   ]
  },
  {
   "cell_type": "markdown",
   "metadata": {},
   "source": [
    "F1 score is poor for this"
   ]
  },
  {
   "cell_type": "markdown",
   "metadata": {},
   "source": [
    "<h4> XGBClassifier - 2nd Model"
   ]
  },
  {
   "cell_type": "code",
   "execution_count": 55,
   "metadata": {},
   "outputs": [
    {
     "name": "stdout",
     "output_type": "stream",
     "text": [
      "f1_score 0.36334566082127223\n",
      "Classification report\n",
      "               precision    recall  f1-score   support\n",
      "\n",
      "           0       0.89      0.98      0.93     31967\n",
      "           1       0.37      0.13      0.19       302\n",
      "           2       0.42      0.22      0.29       748\n",
      "           3       0.41      0.21      0.28      1031\n",
      "           4       0.44      0.13      0.21       916\n",
      "           5       0.37      0.07      0.12      1135\n",
      "           6       0.61      0.46      0.52      2495\n",
      "\n",
      "    accuracy                           0.86     38594\n",
      "   macro avg       0.50      0.32      0.36     38594\n",
      "weighted avg       0.82      0.86      0.83     38594\n",
      "\n"
     ]
    }
   ],
   "source": [
    "# #XGBClassifier\n",
    "\n",
    "from xgboost import XGBClassifier\n",
    "\n",
    "model_xgb=XGBClassifier()\n",
    "model_xgb.fit(X_downsampled,y_downsampled)\n",
    "pred_xgb=model_xgb.predict(X_test)\n",
    "print('f1_score',f1_score(y_test,pred_xgb,average='macro'))\n",
    "print('Classification report\\n', classification_report(y_test,pred_xgb))\n"
   ]
  },
  {
   "cell_type": "code",
   "execution_count": 46,
   "metadata": {},
   "outputs": [
    {
     "data": {
      "image/png": "[encoded data removed]",
      "text/plain": [
       "<Figure size 360x360 with 1 Axes>"
      ]
     },
     "metadata": {
      "needs_background": "light"
     },
     "output_type": "display_data"
    }
   ],
   "source": [
    "#Printing the 15 most important features for XGBModel\n",
    "\n",
    "imp_feat=pd.Series(model_xgb.feature_importances_,index=final_var)\n",
    "plt.figure(figsize=(5,5))\n",
    "imp_feat.sort_values(ascending = False)[:15].plot(kind='barh')\n",
    "plt.show()"
   ]
  },
  {
   "cell_type": "markdown",
   "metadata": {},
   "source": [
    "**For better prediction we choose this model**"
   ]
  },
  {
   "cell_type": "markdown",
   "metadata": {},
   "source": [
    "---"
   ]
  },
  {
   "cell_type": "markdown",
   "metadata": {},
   "source": [
    "## Final submission"
   ]
  },
  {
   "cell_type": "code",
   "execution_count": 47,
   "metadata": {},
   "outputs": [],
   "source": [
    "#prediction of test\n",
    "# pred_final=model_rf.predict(test[final_var])\n",
    "pred_final=model_xgb.predict(test[final_var])\n"
   ]
  },
  {
   "cell_type": "code",
   "execution_count": 48,
   "metadata": {},
   "outputs": [
    {
     "data": {
      "text/html": [
       "<div>\n",
       "<style scoped>\n",
       "    .dataframe tbody tr th:only-of-type {\n",
       "        vertical-align: middle;\n",
       "    }\n",
       "\n",
       "    .dataframe tbody tr th {\n",
       "        vertical-align: top;\n",
       "    }\n",
       "\n",
       "    .dataframe thead th {\n",
       "        text-align: right;\n",
       "    }\n",
       "</style>\n",
       "<table border=\"1\" class=\"dataframe\">\n",
       "  <thead>\n",
       "    <tr style=\"text-align: right;\">\n",
       "      <th></th>\n",
       "      <th>ID</th>\n",
       "      <th>Top-up Month</th>\n",
       "    </tr>\n",
       "  </thead>\n",
       "  <tbody>\n",
       "    <tr>\n",
       "      <th>0</th>\n",
       "      <td>4</td>\n",
       "      <td>0</td>\n",
       "    </tr>\n",
       "    <tr>\n",
       "      <th>7</th>\n",
       "      <td>5</td>\n",
       "      <td>6</td>\n",
       "    </tr>\n",
       "    <tr>\n",
       "      <th>18</th>\n",
       "      <td>6</td>\n",
       "      <td>0</td>\n",
       "    </tr>\n",
       "    <tr>\n",
       "      <th>25</th>\n",
       "      <td>25</td>\n",
       "      <td>0</td>\n",
       "    </tr>\n",
       "    <tr>\n",
       "      <th>26</th>\n",
       "      <td>119</td>\n",
       "      <td>0</td>\n",
       "    </tr>\n",
       "  </tbody>\n",
       "</table>\n",
       "</div>"
      ],
      "text/plain": [
       "     ID  Top-up Month\n",
       "0     4             0\n",
       "7     5             6\n",
       "18    6             0\n",
       "25   25             0\n",
       "26  119             0"
      ]
     },
     "execution_count": 48,
     "metadata": {},
     "output_type": "execute_result"
    }
   ],
   "source": [
    "#add ID and prediction in a Dataframe\n",
    "\n",
    "final_df = pd.DataFrame({'ID':save_id, 'Top-up Month':pred_final})\n",
    "final_df.head(5)"
   ]
  },
  {
   "cell_type": "code",
   "execution_count": 49,
   "metadata": {},
   "outputs": [
    {
     "data": {
      "text/html": [
       "<div>\n",
       "<style scoped>\n",
       "    .dataframe tbody tr th:only-of-type {\n",
       "        vertical-align: middle;\n",
       "    }\n",
       "\n",
       "    .dataframe tbody tr th {\n",
       "        vertical-align: top;\n",
       "    }\n",
       "\n",
       "    .dataframe thead th {\n",
       "        text-align: right;\n",
       "    }\n",
       "</style>\n",
       "<table border=\"1\" class=\"dataframe\">\n",
       "  <thead>\n",
       "    <tr style=\"text-align: right;\">\n",
       "      <th></th>\n",
       "      <th>ID</th>\n",
       "      <th>Top-up Month</th>\n",
       "    </tr>\n",
       "  </thead>\n",
       "  <tbody>\n",
       "    <tr>\n",
       "      <th>0</th>\n",
       "      <td>4</td>\n",
       "      <td>No Top-up Service</td>\n",
       "    </tr>\n",
       "    <tr>\n",
       "      <th>7</th>\n",
       "      <td>5</td>\n",
       "      <td>&gt; 48 Months</td>\n",
       "    </tr>\n",
       "    <tr>\n",
       "      <th>18</th>\n",
       "      <td>6</td>\n",
       "      <td>No Top-up Service</td>\n",
       "    </tr>\n",
       "    <tr>\n",
       "      <th>25</th>\n",
       "      <td>25</td>\n",
       "      <td>No Top-up Service</td>\n",
       "    </tr>\n",
       "    <tr>\n",
       "      <th>26</th>\n",
       "      <td>119</td>\n",
       "      <td>No Top-up Service</td>\n",
       "    </tr>\n",
       "    <tr>\n",
       "      <th>34</th>\n",
       "      <td>126</td>\n",
       "      <td>No Top-up Service</td>\n",
       "    </tr>\n",
       "    <tr>\n",
       "      <th>51</th>\n",
       "      <td>127</td>\n",
       "      <td>&gt; 48 Months</td>\n",
       "    </tr>\n",
       "    <tr>\n",
       "      <th>55</th>\n",
       "      <td>345</td>\n",
       "      <td>No Top-up Service</td>\n",
       "    </tr>\n",
       "    <tr>\n",
       "      <th>57</th>\n",
       "      <td>361</td>\n",
       "      <td>No Top-up Service</td>\n",
       "    </tr>\n",
       "    <tr>\n",
       "      <th>59</th>\n",
       "      <td>393</td>\n",
       "      <td>No Top-up Service</td>\n",
       "    </tr>\n",
       "  </tbody>\n",
       "</table>\n",
       "</div>"
      ],
      "text/plain": [
       "     ID       Top-up Month\n",
       "0     4  No Top-up Service\n",
       "7     5        > 48 Months\n",
       "18    6  No Top-up Service\n",
       "25   25  No Top-up Service\n",
       "26  119  No Top-up Service\n",
       "34  126  No Top-up Service\n",
       "51  127        > 48 Months\n",
       "55  345  No Top-up Service\n",
       "57  361  No Top-up Service\n",
       "59  393  No Top-up Service"
      ]
     },
     "execution_count": 49,
     "metadata": {},
     "output_type": "execute_result"
    }
   ],
   "source": [
    "#converting to label\n",
    "convert_dic = {0:'No Top-up Service', 1:'12-18 Months', 2:'18-24 Months' , 3:'24-30 Months', \n",
    "               4:'30-36 Months', 5:'36-48 Months', 6:' > 48 Months'}\n",
    "final_df['Top-up Month'] = final_df['Top-up Month'].map(convert_dic)\n",
    "final_df.head(10)"
   ]
  },
  {
   "cell_type": "code",
   "execution_count": 50,
   "metadata": {},
   "outputs": [
    {
     "data": {
      "text/plain": [
       "14745"
      ]
     },
     "execution_count": 50,
     "metadata": {},
     "output_type": "execute_result"
    }
   ],
   "source": [
    "test.shape[0]"
   ]
  },
  {
   "cell_type": "code",
   "execution_count": 51,
   "metadata": {},
   "outputs": [
    {
     "data": {
      "text/plain": [
       "14745"
      ]
     },
     "execution_count": 51,
     "metadata": {},
     "output_type": "execute_result"
    }
   ],
   "source": [
    "final_df.shape[0]"
   ]
  },
  {
   "cell_type": "code",
   "execution_count": 52,
   "metadata": {},
   "outputs": [],
   "source": [
    "#convert to submission csv\n",
    "final_df.to_csv('submission007.csv',index=False)"
   ]
  }
 ],
 "metadata": {
  "kernelspec": {
   "display_name": "Python 3",
   "language": "python",
   "name": "python3"
  },
  "language_info": {
   "codemirror_mode": {
    "name": "ipython",
    "version": 3
   },
   "file_extension": ".py",
   "mimetype": "text/x-python",
   "name": "python",
   "nbconvert_exporter": "python",
   "pygments_lexer": "ipython3",
   "version": "3.8.3"
  }
 },
 "nbformat": 4,
 "nbformat_minor": 4
}
